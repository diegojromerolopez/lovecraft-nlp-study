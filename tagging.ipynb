{
 "cells": [
  {
   "cell_type": "markdown",
   "metadata": {},
   "source": [
    "# Tagging"
   ]
  },
  {
   "cell_type": "code",
   "execution_count": 1,
   "metadata": {},
   "outputs": [],
   "source": [
    "import nltk\n",
    "import re\n",
    "import operator\n",
    "from collections import defaultdict\n",
    "import numpy as np\n",
    "\n",
    "import matplotlib.pyplot as plt"
   ]
  },
  {
   "cell_type": "code",
   "execution_count": 3,
   "metadata": {},
   "outputs": [],
   "source": [
    "lovecraft = nltk.corpus.PlaintextCorpusReader(\"lovecraft\", \".*\")"
   ]
  },
  {
   "cell_type": "code",
   "execution_count": 4,
   "metadata": {},
   "outputs": [],
   "source": [
    "lovecraft_words = lovecraft.words()"
   ]
  },
  {
   "cell_type": "markdown",
   "metadata": {},
   "source": [
    "Note pos-tagging means piece-of-speech tagging, so it needs to be applied to sentences because the same word can have different tags depending on the role it plays in the sentence. e.g.:\n",
    "\n",
    "- I usually eat **fish** & chips\n",
    "- I **fish** in the beach on Mondays\n",
    "\n",
    "Here **fish** has two completely different meanings that can only be determined by the other words of the sentence."
   ]
  },
  {
   "cell_type": "code",
   "execution_count": 62,
   "metadata": {},
   "outputs": [],
   "source": [
    "lovecraft_sentences = lovecraft.sents()\n",
    "lovecraft_tagged_words = []\n",
    "for tokenized_sentence in lovecraft_sentences:\n",
    "    sentence_with_tagged_words = nltk.pos_tag(tokenized_sentence)\n",
    "    lovecraft_tagged_words += sentence_with_tagged_words"
   ]
  },
  {
   "cell_type": "markdown",
   "metadata": {},
   "source": [
    "# Tag count"
   ]
  },
  {
   "cell_type": "code",
   "execution_count": 63,
   "metadata": {},
   "outputs": [
    {
     "name": "stdout",
     "output_type": "stream",
     "text": [
      "$: dollar\n",
      "    $ -$ --$ A$ C$ HK$ M$ NZ$ S$ U.S.$ US$\n",
      "'': closing quotation mark\n",
      "    ' ''\n",
      "(: opening parenthesis\n",
      "    ( [ {\n",
      "): closing parenthesis\n",
      "    ) ] }\n",
      ",: comma\n",
      "    ,\n",
      "--: dash\n",
      "    --\n",
      ".: sentence terminator\n",
      "    . ! ?\n",
      ":: colon or ellipsis\n",
      "    : ; ...\n",
      "CC: conjunction, coordinating\n",
      "    & 'n and both but either et for less minus neither nor or plus so\n",
      "    therefore times v. versus vs. whether yet\n",
      "CD: numeral, cardinal\n",
      "    mid-1890 nine-thirty forty-two one-tenth ten million 0.5 one forty-\n",
      "    seven 1987 twenty '79 zero two 78-degrees eighty-four IX '60s .025\n",
      "    fifteen 271,124 dozen quintillion DM2,000 ...\n",
      "DT: determiner\n",
      "    all an another any both del each either every half la many much nary\n",
      "    neither no some such that the them these this those\n",
      "EX: existential there\n",
      "    there\n",
      "FW: foreign word\n",
      "    gemeinschaft hund ich jeux habeas Haementeria Herr K'ang-si vous\n",
      "    lutihaw alai je jour objets salutaris fille quibusdam pas trop Monte\n",
      "    terram fiche oui corporis ...\n",
      "IN: preposition or conjunction, subordinating\n",
      "    astride among uppon whether out inside pro despite on by throughout\n",
      "    below within for towards near behind atop around if like until below\n",
      "    next into if beside ...\n",
      "JJ: adjective or numeral, ordinal\n",
      "    third ill-mannered pre-war regrettable oiled calamitous first separable\n",
      "    ectoplasmic battery-powered participatory fourth still-to-be-named\n",
      "    multilingual multi-disciplinary ...\n",
      "JJR: adjective, comparative\n",
      "    bleaker braver breezier briefer brighter brisker broader bumper busier\n",
      "    calmer cheaper choosier cleaner clearer closer colder commoner costlier\n",
      "    cozier creamier crunchier cuter ...\n",
      "JJS: adjective, superlative\n",
      "    calmest cheapest choicest classiest cleanest clearest closest commonest\n",
      "    corniest costliest crassest creepiest crudest cutest darkest deadliest\n",
      "    dearest deepest densest dinkiest ...\n",
      "LS: list item marker\n",
      "    A A. B B. C C. D E F First G H I J K One SP-44001 SP-44002 SP-44005\n",
      "    SP-44007 Second Third Three Two * a b c d first five four one six three\n",
      "    two\n",
      "MD: modal auxiliary\n",
      "    can cannot could couldn't dare may might must need ought shall should\n",
      "    shouldn't will would\n",
      "NN: noun, common, singular or mass\n",
      "    common-carrier cabbage knuckle-duster Casino afghan shed thermostat\n",
      "    investment slide humour falloff slick wind hyena override subhumanity\n",
      "    machinist ...\n",
      "NNP: noun, proper, singular\n",
      "    Motown Venneboerger Czestochwa Ranzer Conchita Trumplane Christos\n",
      "    Oceanside Escobar Kreisler Sawyer Cougar Yvette Ervin ODI Darryl CTCA\n",
      "    Shannon A.K.C. Meltex Liverpool ...\n",
      "NNPS: noun, proper, plural\n",
      "    Americans Americas Amharas Amityvilles Amusements Anarcho-Syndicalists\n",
      "    Andalusians Andes Andruses Angels Animals Anthony Antilles Antiques\n",
      "    Apache Apaches Apocrypha ...\n",
      "NNS: noun, common, plural\n",
      "    undergraduates scotches bric-a-brac products bodyguards facets coasts\n",
      "    divestitures storehouses designs clubs fragrances averages\n",
      "    subjectivists apprehensions muses factory-jobs ...\n",
      "PDT: pre-determiner\n",
      "    all both half many quite such sure this\n",
      "POS: genitive marker\n",
      "    ' 's\n",
      "PRP: pronoun, personal\n",
      "    hers herself him himself hisself it itself me myself one oneself ours\n",
      "    ourselves ownself self she thee theirs them themselves they thou thy us\n",
      "PRP$: pronoun, possessive\n",
      "    her his mine my our ours their thy your\n",
      "RB: adverb\n",
      "    occasionally unabatingly maddeningly adventurously professedly\n",
      "    stirringly prominently technologically magisterially predominately\n",
      "    swiftly fiscally pitilessly ...\n",
      "RBR: adverb, comparative\n",
      "    further gloomier grander graver greater grimmer harder harsher\n",
      "    healthier heavier higher however larger later leaner lengthier less-\n",
      "    perfectly lesser lonelier longer louder lower more ...\n",
      "RBS: adverb, superlative\n",
      "    best biggest bluntest earliest farthest first furthest hardest\n",
      "    heartiest highest largest least less most nearest second tightest worst\n",
      "RP: particle\n",
      "    aboard about across along apart around aside at away back before behind\n",
      "    by crop down ever fast for forth from go high i.e. in into just later\n",
      "    low more off on open out over per pie raising start teeth that through\n",
      "    under unto up up-pp upon whole with you\n",
      "SYM: symbol\n",
      "    % & ' '' ''. ) ). * + ,. < = > @ A[fj] U.S U.S.S.R * ** ***\n",
      "TO: \"to\" as preposition or infinitive marker\n",
      "    to\n",
      "UH: interjection\n",
      "    Goodbye Goody Gosh Wow Jeepers Jee-sus Hubba Hey Kee-reist Oops amen\n",
      "    huh howdy uh dammit whammo shucks heck anyways whodunnit honey golly\n",
      "    man baby diddle hush sonuvabitch ...\n",
      "VB: verb, base form\n",
      "    ask assemble assess assign assume atone attention avoid bake balkanize\n",
      "    bank begin behold believe bend benefit bevel beware bless boil bomb\n",
      "    boost brace break bring broil brush build ...\n",
      "VBD: verb, past tense\n",
      "    dipped pleaded swiped regummed soaked tidied convened halted registered\n",
      "    cushioned exacted snubbed strode aimed adopted belied figgered\n",
      "    speculated wore appreciated contemplated ...\n",
      "VBG: verb, present participle or gerund\n",
      "    telegraphing stirring focusing angering judging stalling lactating\n",
      "    hankerin' alleging veering capping approaching traveling besieging\n",
      "    encrypting interrupting erasing wincing ...\n",
      "VBN: verb, past participle\n",
      "    multihulled dilapidated aerosolized chaired languished panelized used\n",
      "    experimented flourished imitated reunifed factored condensed sheared\n",
      "    unsettled primed dubbed desired ...\n",
      "VBP: verb, present tense, not 3rd person singular\n",
      "    predominate wrap resort sue twist spill cure lengthen brush terminate\n",
      "    appear tend stray glisten obtain comprise detest tease attract\n",
      "    emphasize mold postpone sever return wag ...\n",
      "VBZ: verb, present tense, 3rd person singular\n",
      "    bases reconstructs marks mixes displeases seals carps weaves snatches\n",
      "    slumps stretches authorizes smolders pictures emerges stockpiles\n",
      "    seduces fizzes uses bolsters slaps speaks pleads ...\n",
      "WDT: WH-determiner\n",
      "    that what whatever which whichever\n",
      "WP: WH-pronoun\n",
      "    that what whatever whatsoever which who whom whosoever\n",
      "WP$: WH-pronoun, possessive\n",
      "    whose\n",
      "WRB: Wh-adverb\n",
      "    how however whence whenever where whereby whereever wherein whereof why\n",
      "``: opening quotation mark\n",
      "    ` ``\n"
     ]
    }
   ],
   "source": [
    "nltk.help.upenn_tagset()"
   ]
  },
  {
   "cell_type": "code",
   "execution_count": 69,
   "metadata": {},
   "outputs": [
    {
     "name": "stdout",
     "output_type": "stream",
     "text": [
      "defaultdict(<class 'int'>, {'DT': 57523, 'NNP': 18886, 'RB': 29377, ',': 26578, 'VBG': 8674, 'JJ': 45775, 'NN': 80752, 'IN': 68744, 'WP$': 579, 'NNS': 28102, 'VBP': 5134, 'VBN': 15297, 'JJS': 1073, 'VBZ': 3110, 'PRP$': 9441, '.': 19019, 'RP': 2128, 'CC': 25264, 'VBD': 36609, 'JJR': 1501, ':': 11391, 'CD': 3713, 'RBS': 231, 'TO': 10740, 'WDT': 3993, 'VB': 14437, 'PRP': 27066, 'FW': 124, 'WP': 2218, 'PDT': 735, 'MD': 5552, 'WRB': 2828, 'POS': 2373, 'EX': 1356, 'RBR': 921, \"''\": 2022, 'SYM': 245, '(': 83, ')': 64, 'NNPS': 197, 'UH': 30, 'LS': 1, '$': 2, '#': 1})\n"
     ]
    }
   ],
   "source": [
    "tag_count = defaultdict(int)\n",
    "for word, tag in lovecraft_tagged_words:\n",
    "    tag_count[tag] += 1\n",
    "\n",
    "print(tag_count)"
   ]
  },
  {
   "cell_type": "code",
   "execution_count": 70,
   "metadata": {},
   "outputs": [
    {
     "data": {
      "text/plain": [
       "<Container object of 44 artists>"
      ]
     },
     "execution_count": 70,
     "metadata": {},
     "output_type": "execute_result"
    },
    {
     "data": {
      "image/png": "[encoded data removed]",
      "text/plain": [
       "<matplotlib.figure.Figure at 0x7f25251a5fd0>"
      ]
     },
     "metadata": {},
     "output_type": "display_data"
    }
   ],
   "source": [
    "tags = sorted(tag_count.keys())\n",
    "tag_values = [tag_count[tag] for tag in tags]\n",
    "\n",
    "plt.figure(figsize=(25,10))\n",
    "plt.bar(tags, tag_values, color='r')"
   ]
  },
  {
   "cell_type": "markdown",
   "metadata": {},
   "source": [
    "# Most common words (lemmas)"
   ]
  },
  {
   "cell_type": "code",
   "execution_count": 71,
   "metadata": {},
   "outputs": [
    {
     "data": {
      "image/png": "[encoded data removed]",
      "text/plain": [
       "<matplotlib.figure.Figure at 0x7f251f30c0f0>"
      ]
     },
     "metadata": {},
     "output_type": "display_data"
    }
   ],
   "source": [
    "stopwords = set(nltk.corpus.stopwords.words('english'))\n",
    "\n",
    "lemmatizer = nltk.wordnet.WordNetLemmatizer()\n",
    "\n",
    "lemma_count = defaultdict(int)\n",
    "for word, tag in lovecraft_tagged_words:\n",
    "    if word.isalpha():\n",
    "        word = word.lower()\n",
    "        if tag[0] == \"V\":\n",
    "            lemma = \"to {}\".format(lemmatizer.lemmatize(word, \"v\"))\n",
    "        else:\n",
    "            lemma = lemmatizer.lemmatize(word)\n",
    "        lemma_count[lemma] += 1\n",
    "\n",
    "number_of_lemmas = 10\n",
    "\n",
    "lemma_ordered_count = [(lemma, count) for lemma, count in lemma_count.items()]\n",
    "lemma_ordered_count.sort(key=operator.itemgetter(1), reverse=True)\n",
    "\n",
    "# Standard words\n",
    "lemmas = [lemma for lemma, count in lemma_ordered_count[:number_of_lemmas]]\n",
    "lemma_values = [count for lemma, count in lemma_ordered_count[:number_of_lemmas]]\n",
    "\n",
    "# Meaningful words\n",
    "meaningful_lemma_ordered_count = list(filter(lambda w_c: w_c[0] not in stopwords, lemma_ordered_count))\n",
    "meaningful_lemmas = [lemma for lemma, count in meaningful_lemma_ordered_count[:number_of_lemmas]]\n",
    "meaningful_lemma_values = [count for lemma, count in meaningful_lemma_ordered_count[:number_of_lemmas]]\n",
    "\n",
    "fig, ax = plt.subplots(1,2, figsize=(30,10))\n",
    "ax[0].bar(np.arange(number_of_lemmas), lemma_values)\n",
    "ax[0].set_title(\"{} most common lemmas\".format(number_of_lemmas))\n",
    "ax[0].set_xticks(np.arange(number_of_lemmas))\n",
    "ax[0].set_xticklabels(lemmas)\n",
    "ax[0].set_xlabel(\"Lemmas\")\n",
    "ax[0].set_ylabel(\"Frequency\")\n",
    "\n",
    "ax[1].bar(np.arange(number_of_lemmas), meaningful_lemma_values)\n",
    "ax[1].set_title(\"{} most common meaningful lemmas\".format(number_of_lemmas))\n",
    "ax[1].set_xticks(np.arange(number_of_lemmas))\n",
    "ax[1].set_xticklabels(meaningful_lemmas)\n",
    "ax[1].set_xlabel(\"Meaningful Lemmas\")\n",
    "ax[1].set_ylabel(\"Frequency\")\n",
    "\n",
    "\n",
    "plt.show()"
   ]
  },
  {
   "cell_type": "markdown",
   "metadata": {},
   "source": [
    "# Most common verbs"
   ]
  },
  {
   "cell_type": "code",
   "execution_count": 72,
   "metadata": {},
   "outputs": [
    {
     "data": {
      "image/png": "[encoded data removed]",
      "text/plain": [
       "<matplotlib.figure.Figure at 0x7f2524aafb38>"
      ]
     },
     "metadata": {},
     "output_type": "display_data"
    }
   ],
   "source": [
    "import operator\n",
    "\n",
    "lemmatizer = nltk.wordnet.WordNetLemmatizer()\n",
    "\n",
    "verb_count = {}\n",
    "for word, tag in lovecraft_tagged_words:\n",
    "    if tag[0] == \"V\":\n",
    "        verb = lemmatizer.lemmatize(word, \"v\")\n",
    "        verb_count[verb] = verb_count.get(verb, 0) + 1\n",
    "\n",
    "verb_ordered_count = [(verb, count) for verb, count in verb_count.items()]\n",
    "verb_ordered_count.sort(key=operator.itemgetter(1), reverse=True)\n",
    "\n",
    "number_of_verbs = 20\n",
    "\n",
    "verb_ordered_count = verb_ordered_count[:number_of_verbs]\n",
    "\n",
    "verbs = [\"to {}\".format(verb) for verb, count in verb_ordered_count]\n",
    "verb_values = [count for verb, count in verb_ordered_count]\n",
    "\n",
    "fig, ax = plt.subplots(1,1, figsize=(20,10))\n",
    "ax.bar(np.arange(number_of_verbs), verb_values)\n",
    "ax.set_xticks(np.arange(number_of_verbs))\n",
    "ax.set_xticklabels(verbs)\n",
    "ax.set_title(\"Most common verbs\")\n",
    "ax.set_xlabel(\"Verbs\")\n",
    "ax.set_yscale('log')\n",
    "ax.set_ylabel(\"Frequency\")\n",
    "plt.show()"
   ]
  },
  {
   "cell_type": "code",
   "execution_count": null,
   "metadata": {},
   "outputs": [],
   "source": []
  }
 ],
 "metadata": {
  "kernelspec": {
   "display_name": "Python 3",
   "language": "python",
   "name": "python3"
  },
  "language_info": {
   "codemirror_mode": {
    "name": "ipython",
    "version": 3
   },
   "file_extension": ".py",
   "mimetype": "text/x-python",
   "name": "python",
   "nbconvert_exporter": "python",
   "pygments_lexer": "ipython3",
   "version": "3.6.3"
  }
 },
 "nbformat": 4,
 "nbformat_minor": 2
}
