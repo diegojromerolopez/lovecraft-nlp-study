{
 "cells": [
  {
   "cell_type": "markdown",
   "metadata": {},
   "source": [
    "# Did Lovecraft wrote 'The Inevitable Conflict'?"
   ]
  },
  {
   "cell_type": "markdown",
   "metadata": {},
   "source": [
    "In December 1930, Amazing Stories published the first part of a story called [The Inevitable Conflict](http://www.entr0py.org/lovecraft/conflict.htm). The next month (in 1931) was published the second part.\n",
    "\n",
    "Many fans of the works of H. P. Lovecraft believe \"The Inevitable Conflict\" to be one of his works, as the author was someone called of P. H. Lovering.\n",
    "\n",
    "This code try to dispel that idea and show how to separate text works of different authors using NLP.\n",
    "\n",
    "This work is based on the article [Did Lovecraft write The Inevitable Conflict?](http://www.gordonswebsite.net/hp-lovecraft/Did%20Lovecraft%20write%20The%20Inevitable%20Conflict%20by%20W_%20E_%20Johns.htm) written by W. E. Johns"
   ]
  },
  {
   "cell_type": "code",
   "execution_count": 48,
   "metadata": {},
   "outputs": [],
   "source": [
    "from bs4 import BeautifulSoup\n",
    "import math\n",
    "import nltk\n",
    "import re\n",
    "import requests\n",
    "import numpy as np\n",
    "from collections import defaultdict\n",
    "import matplotlib.pyplot as plt"
   ]
  },
  {
   "cell_type": "markdown",
   "metadata": {},
   "source": [
    "## Read the texts"
   ]
  },
  {
   "cell_type": "markdown",
   "metadata": {},
   "source": [
    "Unclear rights for \"The Inevitable Conflict\" force me to don't store in the repository and get it from a site. If this doesn't work, feel free to modify this code to make it more fault-tolerant."
   ]
  },
  {
   "cell_type": "code",
   "execution_count": 4,
   "metadata": {},
   "outputs": [],
   "source": [
    "inevitable_conflict_url = \"http://www.entr0py.org/lovecraft/conflict.htm\"\n",
    "inevitable_conflict_response = requests.get(inevitable_conflict_url) \n",
    "\n",
    "inevitable_conflict_soup = BeautifulSoup(inevitable_conflict_response.content, 'html.parser')\n",
    "\n",
    "raw_inevitable_conflict_text = inevitable_conflict_soup.get_text()"
   ]
  },
  {
   "cell_type": "code",
   "execution_count": 5,
   "metadata": {},
   "outputs": [],
   "source": [
    "# Delete header and other ugly javascript code\n",
    "inevitable_conflict_text = raw_inevitable_conflict_text[213:-983]\n",
    "\n",
    "path = \"/tmp/inevitable_conflict.txt\"\n",
    "with open(path, \"w\") as f:\n",
    "    f.write(inevitable_conflict_text)\n",
    "    \n",
    "inevitable_conflict = nltk.corpus.PlaintextCorpusReader(\"/tmp\", \"inevitable_conflict.txt\")"
   ]
  },
  {
   "cell_type": "markdown",
   "metadata": {},
   "source": [
    "Lovecraft is already in the public domain so we have no problem loading a local corpus copy"
   ]
  },
  {
   "cell_type": "code",
   "execution_count": 6,
   "metadata": {},
   "outputs": [],
   "source": [
    "lovecraft = nltk.corpus.PlaintextCorpusReader(\"lovecraft\", \".*\")"
   ]
  },
  {
   "cell_type": "markdown",
   "metadata": {},
   "source": [
    "## Compare suffixes distributions"
   ]
  },
  {
   "cell_type": "code",
   "execution_count": 7,
   "metadata": {},
   "outputs": [],
   "source": [
    "\n",
    "def get_suffix_fd(text):\n",
    "    suffix_fdist = nltk.FreqDist()\n",
    "    for word in text.words():\n",
    "        word = word.lower()\n",
    "        suffix_fdist[word[-1:]] += 1\n",
    "        suffix_fdist[word[-2:]] += 1\n",
    "        suffix_fdist[word[-3:]] += 1\n",
    "    return suffix_fdist\n",
    "\n",
    "lovecraft_suffix_fd = get_suffix_fd(lovecraft)\n",
    "inevitable_conflict_suffix_fd = get_suffix_fd(inevitable_conflict)\n"
   ]
  },
  {
   "cell_type": "code",
   "execution_count": 8,
   "metadata": {},
   "outputs": [],
   "source": [
    "number_of_suffixes = 20"
   ]
  },
  {
   "cell_type": "code",
   "execution_count": 12,
   "metadata": {},
   "outputs": [],
   "source": [
    "most_common_lovecraft_suffixes_fd = lovecraft_suffix_fd.most_common(number_of_suffixes)\n",
    "most_common_lovecraft_suffixes, most_common_lovecraft_suffixes_count = list(zip(*most_common_lovecraft_suffixes_fd))\n",
    "most_common_lovecraft_suffixes_freq = list(map(lambda count: count/lovecraft_suffix_fd.N(), most_common_lovecraft_suffixes_count))"
   ]
  },
  {
   "cell_type": "code",
   "execution_count": 13,
   "metadata": {},
   "outputs": [],
   "source": [
    "most_common_inevitable_conflict_suffixes_fd = inevitable_conflict_suffix_fd.most_common(number_of_suffixes)\n",
    "most_common_inevitable_conflict_suffixes, most_common_inevitable_conflict_suffixes_count = list(zip(*most_common_inevitable_conflict_suffixes_fd))\n",
    "most_common_inevitable_conflict_suffixes_freq = list(map(lambda count: count/inevitable_conflict_suffix_fd.N(), most_common_inevitable_conflict_suffixes_count))"
   ]
  },
  {
   "cell_type": "code",
   "execution_count": 14,
   "metadata": {},
   "outputs": [
    {
     "data": {
      "image/png": "[encoded data removed]",
      "text/plain": [
       "<matplotlib.figure.Figure at 0x7fcc5e881b00>"
      ]
     },
     "metadata": {},
     "output_type": "display_data"
    }
   ],
   "source": [
    "fig, ax = plt.subplots(1,2, figsize=(30,10))\n",
    "\n",
    "ax[0].bar(np.arange(number_of_suffixes), most_common_lovecraft_suffixes_freq, color=\"r\")\n",
    "ax[0].set_title(\"{} most common suffixes in Lovecraft's works\".format(number_of_suffixes))\n",
    "ax[0].set_xticks(np.arange(number_of_suffixes))\n",
    "ax[0].set_xticklabels(most_common_lovecraft_suffixes)\n",
    "ax[0].set_xlabel(\"Suffixes\")\n",
    "ax[0].set_ylabel(\"Frequency\")\n",
    "\n",
    "ax[1].bar(np.arange(number_of_suffixes), most_common_inevitable_conflict_suffixes_freq)\n",
    "ax[1].set_title(\"{} most common suffixes in 'The Inevitable Conflict'\".format(number_of_suffixes))\n",
    "ax[1].set_xticks(np.arange(number_of_suffixes))\n",
    "ax[1].set_xticklabels(most_common_inevitable_conflict_suffixes)\n",
    "ax[1].set_xlabel(\"Suffixes\")\n",
    "ax[1].set_ylabel(\"Frequency\")\n",
    "\n",
    "plt.show()"
   ]
  },
  {
   "cell_type": "markdown",
   "metadata": {},
   "source": [
    "## Compare phrase distributions"
   ]
  },
  {
   "cell_type": "code",
   "execution_count": 22,
   "metadata": {},
   "outputs": [],
   "source": [
    "def get_sentences_by_type(corpus):\n",
    "    sentences_by_type = nltk.FreqDist()\n",
    "    for tokenized_sentence in corpus.sents():\n",
    "        sentence_with_tagged_words = nltk.pos_tag(tokenized_sentence)\n",
    "        sentence_tags = list(zip(*sentence_with_tagged_words))[1]\n",
    "        sentence_type_id = \"-\".join(sentence_tags)\n",
    "        sentences_by_type[sentence_type_id] += 1\n",
    "    return sentences_by_type"
   ]
  },
  {
   "cell_type": "code",
   "execution_count": 26,
   "metadata": {},
   "outputs": [],
   "source": [
    "lovecraft_sentences_fd = get_sentences_by_type(lovecraft)\n",
    "inevitable_conflict_sentences_fd = get_sentences_by_type(inevitable_conflict)"
   ]
  },
  {
   "cell_type": "code",
   "execution_count": 41,
   "metadata": {},
   "outputs": [],
   "source": [
    "number_of_sentence_types = 10\n",
    "lovecraft_sentences_by_type = lovecraft_sentences_fd.most_common(number_of_sentence_types)\n",
    "inevitable_conflict_sentences_by_type = inevitable_conflict_sentences_fd.most_common(number_of_sentence_types)"
   ]
  },
  {
   "cell_type": "code",
   "execution_count": 42,
   "metadata": {},
   "outputs": [],
   "source": [
    "most_common_lovecraft_sentence_types = [sentence_type for sentence_type, occurrences in lovecraft_sentences_by_type]\n",
    "most_common_lovecraft_sentence_types_freq = [occurrences/lovecraft_sentences_fd.N() for sentence_type, occurrences in lovecraft_sentences_by_type]\n",
    "\n",
    "most_common_inevitable_conflict_sentence_types = [sentence_type for sentence_type, occurrences in inevitable_conflict_sentences_by_type]\n",
    "most_common_inevitable_conflict_sentence_types_freq = [occurrences/lovecraft_sentences_fd.N() for sentence_type, occurrences in inevitable_conflict_sentences_by_type]"
   ]
  },
  {
   "cell_type": "code",
   "execution_count": 45,
   "metadata": {},
   "outputs": [
    {
     "name": "stdout",
     "output_type": "stream",
     "text": [
      "Most common Lovecraft sentence types: ['NN', 'NNP-.', 'NN-.', 'CD', 'NNP-:-NN-.', 'DT-NNP-NNP', 'DT-NNP', 'PRP-.', 'PRP', 'DT-NNP-NNP-NNP-NNP']\n",
      "Most common Inevitable conflict sentence types: ['PRP-VBD-.', 'JJ-NNP-NN', 'PRP-VBD-,-RB-.', 'PRP-VBD-RB-.', 'JJ-NNP-.', 'NNP-VBD-.', 'NNP-VBD-,-RB-.', 'VBN-NNP-.', 'NN-.', 'NNP-VBD-RB-.']\n"
     ]
    }
   ],
   "source": [
    "print(\"Most common Lovecraft sentence types: {}\".format(most_common_lovecraft_sentence_types))\n",
    "print(\"Most common Inevitable conflict sentence types: {}\".format(most_common_inevitable_conflict_sentence_types))"
   ]
  },
  {
   "cell_type": "code",
   "execution_count": 44,
   "metadata": {},
   "outputs": [
    {
     "data": {
      "image/png": "[encoded data removed]",
      "text/plain": [
       "<matplotlib.figure.Figure at 0x7fcc59bef860>"
      ]
     },
     "metadata": {},
     "output_type": "display_data"
    }
   ],
   "source": [
    "fig, ax = plt.subplots(1,2, figsize=(30,10))\n",
    "\n",
    "ax[0].bar(np.arange(number_of_sentence_types), most_common_lovecraft_sentence_types_freq, color=\"r\")\n",
    "ax[0].set_title(\"{} most sentence types in Lovecraft's works\".format(number_of_sentence_types))\n",
    "ax[0].set_xticks(np.arange(number_of_sentence_types))\n",
    "ax[0].set_xticklabels(most_common_lovecraft_sentence_types)\n",
    "ax[0].set_xlabel(\"Sentence types\")\n",
    "ax[0].set_ylabel(\"Frequency\")\n",
    "\n",
    "ax[1].bar(np.arange(number_of_sentence_types), most_common_inevitable_conflict_sentence_types_freq)\n",
    "ax[1].set_title(\"{} most common sentence types in 'The Inevitable Conflict'\".format(number_of_sentence_types))\n",
    "ax[1].set_xticks(np.arange(number_of_sentence_types))\n",
    "ax[1].set_xticklabels(most_common_inevitable_conflict_sentence_types)\n",
    "ax[1].set_xlabel(\"Sentence types\")\n",
    "ax[1].set_ylabel(\"Frequency\")\n",
    "\n",
    "plt.show()"
   ]
  },
  {
   "cell_type": "markdown",
   "metadata": {},
   "source": [
    "## Word entropy"
   ]
  },
  {
   "cell_type": "code",
   "execution_count": 53,
   "metadata": {},
   "outputs": [],
   "source": [
    "def get_word_fd(words):\n",
    "    fd = nltk.FreqDist()\n",
    "    for word in words:\n",
    "        fd[word] += 1\n",
    "    return fd\n",
    "\n",
    "lovecraft_word_fd = get_word_fd([word.lower() for word in lovecraft.words()])\n",
    "inevitable_conflict_word_fd = get_word_fd([word.lower() for word in inevitable_conflict.words()])"
   ]
  },
  {
   "cell_type": "code",
   "execution_count": 54,
   "metadata": {},
   "outputs": [
    {
     "name": "stdout",
     "output_type": "stream",
     "text": [
      "Lovecraft corpus entropy: 9.757192442034519\n",
      "Inevitable corpus entropy: 9.122404236048238\n"
     ]
    }
   ],
   "source": [
    "def get_entropy(fd):\n",
    "    probabilities = [fd.freq(word) for word in fd]\n",
    "    return -sum(probability * math.log(probability, 2) for probability in probabilities)\n",
    "\n",
    "lovecraft_entropy = get_entropy(lovecraft_word_fd)\n",
    "inevitable_conflict_entropy = get_entropy(inevitable_conflict_word_fd)\n",
    "\n",
    "print(\"Lovecraft's corpus entropy: {}\".format(lovecraft_entropy))\n",
    "print(\"Inevitable Conflict corpus entropy: {}\".format(inevitable_conflict_entropy))"
   ]
  },
  {
   "cell_type": "markdown",
   "metadata": {},
   "source": [
    "Uhm, their word entropy is similar... We have to go deepe"
   ]
  },
  {
   "cell_type": "markdown",
   "metadata": {},
   "source": [
    "## Average sentence number of words"
   ]
  },
  {
   "cell_type": "code",
   "execution_count": 57,
   "metadata": {},
   "outputs": [],
   "source": [
    "lovecraft_sentence_lengths = list(map(lambda sentence: len(sentence), lovecraft.sents()))\n",
    "inevitable_conflict_sentence_lengths = list(map(lambda sentence: len(sentence), inevitable_conflict.sents()))"
   ]
  },
  {
   "cell_type": "code",
   "execution_count": 60,
   "metadata": {},
   "outputs": [
    {
     "name": "stdout",
     "output_type": "stream",
     "text": [
      "Lovecraft's sentence length (in words): mean=29.869827720814033 std_dev=16.351054053907408\n",
      "Inevitable Conflict sentence length (in words): mean=15.14188590008868 std_dev=10.197515749012695\n"
     ]
    }
   ],
   "source": [
    "lovecraft_sentence_length_mean = np.mean(lovecraft_sentence_lengths)\n",
    "inevitable_conflict_sentence_length_mean = np.mean(inevitable_conflict_sentence_lengths)\n",
    "\n",
    "print(\"Lovecraft's sentence length (in words): mean={} std_dev={}\".format(np.mean(lovecraft_sentence_lengths), np.std(lovecraft_sentence_lengths)))\n",
    "print(\"Inevitable Conflict sentence length (in words): mean={} std_dev={}\".format(np.mean(inevitable_conflict_sentence_lengths), np.std(inevitable_conflict_sentence_lengths)))"
   ]
  },
  {
   "cell_type": "code",
   "execution_count": null,
   "metadata": {},
   "outputs": [],
   "source": []
  }
 ],
 "metadata": {
  "kernelspec": {
   "display_name": "Python 3",
   "language": "python",
   "name": "python3"
  },
  "language_info": {
   "codemirror_mode": {
    "name": "ipython",
    "version": 3
   },
   "file_extension": ".py",
   "mimetype": "text/x-python",
   "name": "python",
   "nbconvert_exporter": "python",
   "pygments_lexer": "ipython3",
   "version": "3.6.3"
  }
 },
 "nbformat": 4,
 "nbformat_minor": 2
}
